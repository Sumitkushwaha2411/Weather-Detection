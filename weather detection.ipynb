{
 "cells": [
  {
   "cell_type": "code",
   "execution_count": 1,
   "id": "5b4ba9ee-87ea-40be-84e7-35962b591222",
   "metadata": {},
   "outputs": [],
   "source": [
    "import requests"
   ]
  },
  {
   "cell_type": "code",
   "execution_count": 2,
   "id": "ab2b7702-f24c-4094-b9db-2eefa932ff87",
   "metadata": {},
   "outputs": [
    {
     "name": "stdin",
     "output_type": "stream",
     "text": [
      "Enter city name:  jaipur\n"
     ]
    },
    {
     "name": "stdout",
     "output_type": "stream",
     "text": [
      "Temperature: 40.62°C\n",
      "Pressure: 1003 hPa\n",
      "Humidity: 29%\n",
      "Weather Description: haze\n",
      "Wind Speed: 4.63 m/s\n"
     ]
    }
   ],
   "source": [
    "\n",
    "def get_weather(city_name, api_key):\n",
    "    base_url = \"http://api.openweathermap.org/data/2.5/weather?\"\n",
    "    complete_url = base_url + \"q=\" + city_name + \"&appid=\" + api_key + \"&units=metric\"\n",
    "    \n",
    "    response = requests.get(complete_url)\n",
    "    data = response.json()\n",
    "    \n",
    "    if data[\"cod\"] != \"404\":\n",
    "        main = data[\"main\"]\n",
    "        weather = data[\"weather\"][0]\n",
    "        wind = data[\"wind\"]\n",
    "\n",
    "        weather_details = {\n",
    "            \"Temperature\": main[\"temp\"],\n",
    "            \"Pressure\": main[\"pressure\"],\n",
    "            \"Humidity\": main[\"humidity\"],\n",
    "            \"Weather Description\": weather[\"description\"],\n",
    "            \"Wind Speed\": wind[\"speed\"]\n",
    "        }\n",
    "        return weather_details\n",
    "    else:\n",
    "        return {\"Error\": \"City Not Found\"}\n",
    "\n",
    "if __name__ == \"__main__\":\n",
    "    api_key = \"691e4cdd71132cbda7d72f832c190406\"\n",
    "    city_name = input(\"Enter city name: \")\n",
    "    weather = get_weather(city_name, api_key)\n",
    "    \n",
    "    if \"Error\" in weather:\n",
    "        print(weather[\"Error\"])\n",
    "    else:\n",
    "        print(f\"Temperature: {weather['Temperature']}°C\")\n",
    "        print(f\"Pressure: {weather['Pressure']} hPa\")\n",
    "        print(f\"Humidity: {weather['Humidity']}%\")\n",
    "        print(f\"Weather Description: {weather['Weather Description']}\")\n",
    "        print(f\"Wind Speed: {weather['Wind Speed']} m/s\")\n",
    "\n"
   ]
  },
  {
   "cell_type": "code",
   "execution_count": null,
   "id": "f0a6bec4-5c7d-4310-9a38-8af4f42e3fdf",
   "metadata": {},
   "outputs": [],
   "source": []
  }
 ],
 "metadata": {
  "kernelspec": {
   "display_name": "Python 3 (ipykernel)",
   "language": "python",
   "name": "python3"
  },
  "language_info": {
   "codemirror_mode": {
    "name": "ipython",
    "version": 3
   },
   "file_extension": ".py",
   "mimetype": "text/x-python",
   "name": "python",
   "nbconvert_exporter": "python",
   "pygments_lexer": "ipython3",
   "version": "3.11.7"
  }
 },
 "nbformat": 4,
 "nbformat_minor": 5
}
